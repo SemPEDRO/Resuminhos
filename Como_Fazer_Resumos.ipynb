{
  "nbformat": 4,
  "nbformat_minor": 0,
  "metadata": {
    "colab": {
      "provenance": [],
      "authorship_tag": "ABX9TyMLFAUA5I+JNMffgih54wnO",
      "include_colab_link": true
    },
    "kernelspec": {
      "name": "python3",
      "display_name": "Python 3"
    },
    "language_info": {
      "name": "python"
    }
  },
  "cells": [
    {
      "cell_type": "markdown",
      "metadata": {
        "id": "view-in-github",
        "colab_type": "text"
      },
      "source": [
        "<a href=\"https://colab.research.google.com/github/SemPEDRO/Joguinho-Pythom/blob/main/Como_Fazer_Resumos.ipynb\" target=\"_parent\"><img src=\"https://colab.research.google.com/assets/colab-badge.svg\" alt=\"Open In Colab\"/></a>"
      ]
    },
    {
      "cell_type": "markdown",
      "source": [
        "\n",
        "<HR>\n",
        "<h1><b>Oque é Um Resumo?</b>\n",
        "<HR>\n",
        "<h4>Um resumo é uma versão condensada e concisa de um texto, documento ou conteúdo mais extenso. Ele tem como objetivo apresentar as informações principais de forma sucinta, eliminando detalhes menos relevantes. O propósito de um resumo é fornecer uma visão geral do conteúdo original, permitindo aos leitores obterem uma compreensão rápida e abrangente do assunto, sem precisar ler o material completo.<h4>\n",
        "\n",
        "<hr>\n",
        "<h1><b>Onde Posso fazer Resumos?</b><h1>\n",
        "<hr>\n",
        "<h4>\n",
        "Primeiramente, utilizaremos o Google Colab, uma plataforma em que é necessário fazer login e criar um novo notebook. Para isso, basta clicar na opção \"Texto\". É importante ressaltar que os resumos frequentemente envolvem o uso de HTML, portanto, ter um conhecimento básico sobre ele é recomendado.</h4>\n",
        "\n",
        "\n"
      ],
      "metadata": {
        "id": "k8GkOoEnK9ac"
      }
    },
    {
      "cell_type": "markdown",
      "source": [
        "<hr>\n",
        "<h1><b>Oque é Preciso Para Fazer um Resumo?</b><h1>\n",
        "<hr>\n",
        "<h4>Primeiramente, é essencial considerar o público-alvo para o qual você está fazendo o resumo. Isso ocorre porque pode ser necessário adaptar o nível de detalhamento, variando entre uma abordagem mais detalhada ou focando nas informações mais relevantes para o leitor.</h4>\n",
        "\n",
        "\n",
        "*   Use As melhores Palavras Possiveis\n",
        "  \n",
        "  <B>Podemos contar com a ajuda do Chat GPT para aprimorar nosso resumo.</B>\n",
        "\n",
        "  <b>Além disso, podemos solicitar ao Chat GPT que faça o resumo, desde que forneçamos as informações adequadas.<b>"
      ],
      "metadata": {
        "id": "Cx0ZshWbNg4u"
      }
    },
    {
      "cell_type": "markdown",
      "source": [
        "<hr>\n",
        "<h1><b> Qual é a Estrutura de um Resumo?</b> </h1>\n",
        "<hr>\n",
        "<h4>Um resumo é constituido em 3 partes:</h4>\n",
        "\n",
        "1.  <h5><b>Introdução:</b> Apresenta o contexto do texto ou materia original e fornece uma breve descrição do tema abordado.</h5>\n",
        "\n",
        "2. <h5><B>Desenvolvimento:</b> Resume as principais informações, ideias ou argumentos do texto original de forma concisa. Essa seção deve ser clara, objetiva e seletiva, destacando os pontos essenciais.</h5>\n",
        "\n",
        "3. <h5><b>Conclusão:</b> Encerra o resumo reforçando os pontos-chave e oferecendo uma visão geral das principais conclusões ou recomendações apresentadas no texto original.</h5>\n",
        "\n",
        "<h4>Lembrando que, dependendo do tipo de resumo (informativo, indicativo, crítico,\n",
        "entre outros), a estrutura pode variar ligeiramente, mas esses são os elementos básicos comuns.</h4>\n",
        "\n",
        "\n",
        "\n",
        "\n",
        "\n",
        "\n",
        "\n",
        "\n"
      ],
      "metadata": {
        "id": "tgaIZAxChHHT"
      }
    },
    {
      "cell_type": "markdown",
      "source": [
        "<hr>\n",
        "<H1> Pratica </h1>\n",
        "<hr>\n",
        "<h4>  Chegou o momento da prática! Concentre-se em todos os aspectos, especialmente na estrutura, nas palavras utilizadas e na forma como deseja elaborar o seu resumo. Desejo boa sorte!  </h4>"
      ],
      "metadata": {
        "id": "W_TLjmjckJge"
      }
    }
  ]
}